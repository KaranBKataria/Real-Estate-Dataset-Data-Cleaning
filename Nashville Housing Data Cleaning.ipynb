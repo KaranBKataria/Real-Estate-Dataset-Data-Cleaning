{
 "cells": [
  {
   "cell_type": "code",
   "execution_count": 78,
   "id": "6ae2f71e",
   "metadata": {},
   "outputs": [],
   "source": [
    "import pandas as pd \n",
    "import numpy as np \n",
    "import matplotlib.pyplot as plt\n",
    "import seaborn as sns "
   ]
  },
  {
   "cell_type": "markdown",
   "id": "7d852da5",
   "metadata": {},
   "source": [
    "### Assigning the dataset to a variable called \"housing\":"
   ]
  },
  {
   "cell_type": "code",
   "execution_count": 79,
   "id": "0e8f6879",
   "metadata": {},
   "outputs": [
    {
     "data": {
      "text/html": [
       "<div>\n",
       "<style scoped>\n",
       "    .dataframe tbody tr th:only-of-type {\n",
       "        vertical-align: middle;\n",
       "    }\n",
       "\n",
       "    .dataframe tbody tr th {\n",
       "        vertical-align: top;\n",
       "    }\n",
       "\n",
       "    .dataframe thead th {\n",
       "        text-align: right;\n",
       "    }\n",
       "</style>\n",
       "<table border=\"1\" class=\"dataframe\">\n",
       "  <thead>\n",
       "    <tr style=\"text-align: right;\">\n",
       "      <th></th>\n",
       "      <th>UniqueID</th>\n",
       "      <th>ParcelID</th>\n",
       "      <th>LandUse</th>\n",
       "      <th>PropertyAddress</th>\n",
       "      <th>SaleDate</th>\n",
       "      <th>SalePrice</th>\n",
       "      <th>LegalReference</th>\n",
       "      <th>SoldAsVacant</th>\n",
       "      <th>OwnerName</th>\n",
       "      <th>OwnerAddress</th>\n",
       "      <th>Acreage</th>\n",
       "      <th>TaxDistrict</th>\n",
       "      <th>LandValue</th>\n",
       "      <th>BuildingValue</th>\n",
       "      <th>TotalValue</th>\n",
       "      <th>YearBuilt</th>\n",
       "      <th>Bedrooms</th>\n",
       "      <th>FullBath</th>\n",
       "      <th>HalfBath</th>\n",
       "    </tr>\n",
       "  </thead>\n",
       "  <tbody>\n",
       "    <tr>\n",
       "      <th>0</th>\n",
       "      <td>2045</td>\n",
       "      <td>007 00 0 125.00</td>\n",
       "      <td>SINGLE FAMILY</td>\n",
       "      <td>1808  FOX CHASE DR, GOODLETTSVILLE</td>\n",
       "      <td>April 9, 2013</td>\n",
       "      <td>240000</td>\n",
       "      <td>20130412-0036474</td>\n",
       "      <td>No</td>\n",
       "      <td>FRAZIER, CYRENTHA LYNETTE</td>\n",
       "      <td>1808  FOX CHASE DR, GOODLETTSVILLE, TN</td>\n",
       "      <td>2.3</td>\n",
       "      <td>GENERAL SERVICES DISTRICT</td>\n",
       "      <td>50000.0</td>\n",
       "      <td>168200.0</td>\n",
       "      <td>235700.0</td>\n",
       "      <td>1986.0</td>\n",
       "      <td>3.0</td>\n",
       "      <td>3.0</td>\n",
       "      <td>0.0</td>\n",
       "    </tr>\n",
       "    <tr>\n",
       "      <th>1</th>\n",
       "      <td>16918</td>\n",
       "      <td>007 00 0 130.00</td>\n",
       "      <td>SINGLE FAMILY</td>\n",
       "      <td>1832  FOX CHASE DR, GOODLETTSVILLE</td>\n",
       "      <td>June 10, 2014</td>\n",
       "      <td>366000</td>\n",
       "      <td>20140619-0053768</td>\n",
       "      <td>No</td>\n",
       "      <td>BONER, CHARLES &amp; LESLIE</td>\n",
       "      <td>1832  FOX CHASE DR, GOODLETTSVILLE, TN</td>\n",
       "      <td>3.5</td>\n",
       "      <td>GENERAL SERVICES DISTRICT</td>\n",
       "      <td>50000.0</td>\n",
       "      <td>264100.0</td>\n",
       "      <td>319000.0</td>\n",
       "      <td>1998.0</td>\n",
       "      <td>3.0</td>\n",
       "      <td>3.0</td>\n",
       "      <td>2.0</td>\n",
       "    </tr>\n",
       "    <tr>\n",
       "      <th>2</th>\n",
       "      <td>54582</td>\n",
       "      <td>007 00 0 138.00</td>\n",
       "      <td>SINGLE FAMILY</td>\n",
       "      <td>1864 FOX CHASE  DR, GOODLETTSVILLE</td>\n",
       "      <td>September 26, 2016</td>\n",
       "      <td>435000</td>\n",
       "      <td>20160927-0101718</td>\n",
       "      <td>No</td>\n",
       "      <td>WILSON, JAMES E. &amp; JOANNE</td>\n",
       "      <td>1864  FOX CHASE DR, GOODLETTSVILLE, TN</td>\n",
       "      <td>2.9</td>\n",
       "      <td>GENERAL SERVICES DISTRICT</td>\n",
       "      <td>50000.0</td>\n",
       "      <td>216200.0</td>\n",
       "      <td>298000.0</td>\n",
       "      <td>1987.0</td>\n",
       "      <td>4.0</td>\n",
       "      <td>3.0</td>\n",
       "      <td>0.0</td>\n",
       "    </tr>\n",
       "    <tr>\n",
       "      <th>3</th>\n",
       "      <td>43070</td>\n",
       "      <td>007 00 0 143.00</td>\n",
       "      <td>SINGLE FAMILY</td>\n",
       "      <td>1853  FOX CHASE DR, GOODLETTSVILLE</td>\n",
       "      <td>January 29, 2016</td>\n",
       "      <td>255000</td>\n",
       "      <td>20160129-0008913</td>\n",
       "      <td>No</td>\n",
       "      <td>BAKER, JAY K. &amp; SUSAN E.</td>\n",
       "      <td>1853  FOX CHASE DR, GOODLETTSVILLE, TN</td>\n",
       "      <td>2.6</td>\n",
       "      <td>GENERAL SERVICES DISTRICT</td>\n",
       "      <td>50000.0</td>\n",
       "      <td>147300.0</td>\n",
       "      <td>197300.0</td>\n",
       "      <td>1985.0</td>\n",
       "      <td>3.0</td>\n",
       "      <td>3.0</td>\n",
       "      <td>0.0</td>\n",
       "    </tr>\n",
       "    <tr>\n",
       "      <th>4</th>\n",
       "      <td>22714</td>\n",
       "      <td>007 00 0 149.00</td>\n",
       "      <td>SINGLE FAMILY</td>\n",
       "      <td>1829  FOX CHASE DR, GOODLETTSVILLE</td>\n",
       "      <td>October 10, 2014</td>\n",
       "      <td>278000</td>\n",
       "      <td>20141015-0095255</td>\n",
       "      <td>No</td>\n",
       "      <td>POST, CHRISTOPHER M. &amp; SAMANTHA C.</td>\n",
       "      <td>1829  FOX CHASE DR, GOODLETTSVILLE, TN</td>\n",
       "      <td>2.0</td>\n",
       "      <td>GENERAL SERVICES DISTRICT</td>\n",
       "      <td>50000.0</td>\n",
       "      <td>152300.0</td>\n",
       "      <td>202300.0</td>\n",
       "      <td>1984.0</td>\n",
       "      <td>4.0</td>\n",
       "      <td>3.0</td>\n",
       "      <td>0.0</td>\n",
       "    </tr>\n",
       "    <tr>\n",
       "      <th>...</th>\n",
       "      <td>...</td>\n",
       "      <td>...</td>\n",
       "      <td>...</td>\n",
       "      <td>...</td>\n",
       "      <td>...</td>\n",
       "      <td>...</td>\n",
       "      <td>...</td>\n",
       "      <td>...</td>\n",
       "      <td>...</td>\n",
       "      <td>...</td>\n",
       "      <td>...</td>\n",
       "      <td>...</td>\n",
       "      <td>...</td>\n",
       "      <td>...</td>\n",
       "      <td>...</td>\n",
       "      <td>...</td>\n",
       "      <td>...</td>\n",
       "      <td>...</td>\n",
       "      <td>...</td>\n",
       "    </tr>\n",
       "    <tr>\n",
       "      <th>56472</th>\n",
       "      <td>30469</td>\n",
       "      <td>188 10 0A 101.00</td>\n",
       "      <td>SINGLE FAMILY</td>\n",
       "      <td>1435  WINDING CREEK DR, NOLENSVILLE</td>\n",
       "      <td>May 27, 2015</td>\n",
       "      <td>157500</td>\n",
       "      <td>20150608-0053286</td>\n",
       "      <td>No</td>\n",
       "      <td>NaN</td>\n",
       "      <td>NaN</td>\n",
       "      <td>NaN</td>\n",
       "      <td>NaN</td>\n",
       "      <td>NaN</td>\n",
       "      <td>NaN</td>\n",
       "      <td>NaN</td>\n",
       "      <td>NaN</td>\n",
       "      <td>NaN</td>\n",
       "      <td>NaN</td>\n",
       "      <td>NaN</td>\n",
       "    </tr>\n",
       "    <tr>\n",
       "      <th>56473</th>\n",
       "      <td>27707</td>\n",
       "      <td>188 10 0A 107.00</td>\n",
       "      <td>SINGLE FAMILY</td>\n",
       "      <td>1423  WINDING CREEK DR, NOLENSVILLE</td>\n",
       "      <td>March 2, 2015</td>\n",
       "      <td>145000</td>\n",
       "      <td>20150304-0019013</td>\n",
       "      <td>No</td>\n",
       "      <td>NaN</td>\n",
       "      <td>NaN</td>\n",
       "      <td>NaN</td>\n",
       "      <td>NaN</td>\n",
       "      <td>NaN</td>\n",
       "      <td>NaN</td>\n",
       "      <td>NaN</td>\n",
       "      <td>NaN</td>\n",
       "      <td>NaN</td>\n",
       "      <td>NaN</td>\n",
       "      <td>NaN</td>\n",
       "    </tr>\n",
       "    <tr>\n",
       "      <th>56474</th>\n",
       "      <td>52709</td>\n",
       "      <td>188 10 0A 118.00</td>\n",
       "      <td>VACANT RESIDENTIAL LAND</td>\n",
       "      <td>1804 GRACE POINT  LN, NOLENSVILLE</td>\n",
       "      <td>August 16, 2016</td>\n",
       "      <td>234611</td>\n",
       "      <td>20160819-0087214</td>\n",
       "      <td>Yes</td>\n",
       "      <td>NaN</td>\n",
       "      <td>NaN</td>\n",
       "      <td>NaN</td>\n",
       "      <td>NaN</td>\n",
       "      <td>NaN</td>\n",
       "      <td>NaN</td>\n",
       "      <td>NaN</td>\n",
       "      <td>NaN</td>\n",
       "      <td>NaN</td>\n",
       "      <td>NaN</td>\n",
       "      <td>NaN</td>\n",
       "    </tr>\n",
       "    <tr>\n",
       "      <th>56475</th>\n",
       "      <td>54042</td>\n",
       "      <td>188 10 0A 121.00</td>\n",
       "      <td>VACANT RESIDENTIAL LAND</td>\n",
       "      <td>1709 PARK TERRACE  LN, NOLENSVILLE</td>\n",
       "      <td>September 7, 2016</td>\n",
       "      <td>93844</td>\n",
       "      <td>20160919-0098411</td>\n",
       "      <td>Yes</td>\n",
       "      <td>NaN</td>\n",
       "      <td>NaN</td>\n",
       "      <td>NaN</td>\n",
       "      <td>NaN</td>\n",
       "      <td>NaN</td>\n",
       "      <td>NaN</td>\n",
       "      <td>NaN</td>\n",
       "      <td>NaN</td>\n",
       "      <td>NaN</td>\n",
       "      <td>NaN</td>\n",
       "      <td>NaN</td>\n",
       "    </tr>\n",
       "    <tr>\n",
       "      <th>56476</th>\n",
       "      <td>54043</td>\n",
       "      <td>188 10 0A 122.00</td>\n",
       "      <td>VACANT RESIDENTIAL LAND</td>\n",
       "      <td>1713 PARK TERRACE  LN, NOLENSVILLE</td>\n",
       "      <td>September 7, 2016</td>\n",
       "      <td>93844</td>\n",
       "      <td>20160919-0098411</td>\n",
       "      <td>Yes</td>\n",
       "      <td>NaN</td>\n",
       "      <td>NaN</td>\n",
       "      <td>NaN</td>\n",
       "      <td>NaN</td>\n",
       "      <td>NaN</td>\n",
       "      <td>NaN</td>\n",
       "      <td>NaN</td>\n",
       "      <td>NaN</td>\n",
       "      <td>NaN</td>\n",
       "      <td>NaN</td>\n",
       "      <td>NaN</td>\n",
       "    </tr>\n",
       "  </tbody>\n",
       "</table>\n",
       "<p>56477 rows × 19 columns</p>\n",
       "</div>"
      ],
      "text/plain": [
       "       UniqueID           ParcelID                  LandUse  \\\n",
       "0           2045   007 00 0 125.00            SINGLE FAMILY   \n",
       "1          16918   007 00 0 130.00            SINGLE FAMILY   \n",
       "2          54582   007 00 0 138.00            SINGLE FAMILY   \n",
       "3          43070   007 00 0 143.00            SINGLE FAMILY   \n",
       "4          22714   007 00 0 149.00            SINGLE FAMILY   \n",
       "...          ...               ...                      ...   \n",
       "56472      30469  188 10 0A 101.00            SINGLE FAMILY   \n",
       "56473      27707  188 10 0A 107.00            SINGLE FAMILY   \n",
       "56474      52709  188 10 0A 118.00  VACANT RESIDENTIAL LAND   \n",
       "56475      54042  188 10 0A 121.00  VACANT RESIDENTIAL LAND   \n",
       "56476      54043  188 10 0A 122.00  VACANT RESIDENTIAL LAND   \n",
       "\n",
       "                           PropertyAddress            SaleDate SalePrice  \\\n",
       "0       1808  FOX CHASE DR, GOODLETTSVILLE       April 9, 2013    240000   \n",
       "1       1832  FOX CHASE DR, GOODLETTSVILLE       June 10, 2014    366000   \n",
       "2       1864 FOX CHASE  DR, GOODLETTSVILLE  September 26, 2016    435000   \n",
       "3       1853  FOX CHASE DR, GOODLETTSVILLE    January 29, 2016    255000   \n",
       "4       1829  FOX CHASE DR, GOODLETTSVILLE    October 10, 2014    278000   \n",
       "...                                    ...                 ...       ...   \n",
       "56472  1435  WINDING CREEK DR, NOLENSVILLE        May 27, 2015    157500   \n",
       "56473  1423  WINDING CREEK DR, NOLENSVILLE       March 2, 2015    145000   \n",
       "56474    1804 GRACE POINT  LN, NOLENSVILLE     August 16, 2016    234611   \n",
       "56475   1709 PARK TERRACE  LN, NOLENSVILLE   September 7, 2016     93844   \n",
       "56476   1713 PARK TERRACE  LN, NOLENSVILLE   September 7, 2016     93844   \n",
       "\n",
       "         LegalReference SoldAsVacant                           OwnerName  \\\n",
       "0      20130412-0036474           No           FRAZIER, CYRENTHA LYNETTE   \n",
       "1      20140619-0053768           No             BONER, CHARLES & LESLIE   \n",
       "2      20160927-0101718           No           WILSON, JAMES E. & JOANNE   \n",
       "3      20160129-0008913           No            BAKER, JAY K. & SUSAN E.   \n",
       "4      20141015-0095255           No  POST, CHRISTOPHER M. & SAMANTHA C.   \n",
       "...                 ...          ...                                 ...   \n",
       "56472  20150608-0053286           No                                 NaN   \n",
       "56473  20150304-0019013           No                                 NaN   \n",
       "56474  20160819-0087214          Yes                                 NaN   \n",
       "56475  20160919-0098411          Yes                                 NaN   \n",
       "56476  20160919-0098411          Yes                                 NaN   \n",
       "\n",
       "                                 OwnerAddress  Acreage  \\\n",
       "0      1808  FOX CHASE DR, GOODLETTSVILLE, TN      2.3   \n",
       "1      1832  FOX CHASE DR, GOODLETTSVILLE, TN      3.5   \n",
       "2      1864  FOX CHASE DR, GOODLETTSVILLE, TN      2.9   \n",
       "3      1853  FOX CHASE DR, GOODLETTSVILLE, TN      2.6   \n",
       "4      1829  FOX CHASE DR, GOODLETTSVILLE, TN      2.0   \n",
       "...                                       ...      ...   \n",
       "56472                                     NaN      NaN   \n",
       "56473                                     NaN      NaN   \n",
       "56474                                     NaN      NaN   \n",
       "56475                                     NaN      NaN   \n",
       "56476                                     NaN      NaN   \n",
       "\n",
       "                     TaxDistrict  LandValue  BuildingValue  TotalValue  \\\n",
       "0      GENERAL SERVICES DISTRICT    50000.0       168200.0    235700.0   \n",
       "1      GENERAL SERVICES DISTRICT    50000.0       264100.0    319000.0   \n",
       "2      GENERAL SERVICES DISTRICT    50000.0       216200.0    298000.0   \n",
       "3      GENERAL SERVICES DISTRICT    50000.0       147300.0    197300.0   \n",
       "4      GENERAL SERVICES DISTRICT    50000.0       152300.0    202300.0   \n",
       "...                          ...        ...            ...         ...   \n",
       "56472                        NaN        NaN            NaN         NaN   \n",
       "56473                        NaN        NaN            NaN         NaN   \n",
       "56474                        NaN        NaN            NaN         NaN   \n",
       "56475                        NaN        NaN            NaN         NaN   \n",
       "56476                        NaN        NaN            NaN         NaN   \n",
       "\n",
       "       YearBuilt  Bedrooms  FullBath  HalfBath  \n",
       "0         1986.0       3.0       3.0       0.0  \n",
       "1         1998.0       3.0       3.0       2.0  \n",
       "2         1987.0       4.0       3.0       0.0  \n",
       "3         1985.0       3.0       3.0       0.0  \n",
       "4         1984.0       4.0       3.0       0.0  \n",
       "...          ...       ...       ...       ...  \n",
       "56472        NaN       NaN       NaN       NaN  \n",
       "56473        NaN       NaN       NaN       NaN  \n",
       "56474        NaN       NaN       NaN       NaN  \n",
       "56475        NaN       NaN       NaN       NaN  \n",
       "56476        NaN       NaN       NaN       NaN  \n",
       "\n",
       "[56477 rows x 19 columns]"
      ]
     },
     "execution_count": 79,
     "metadata": {},
     "output_type": "execute_result"
    }
   ],
   "source": [
    "housing = pd.read_csv('Nashville Housing Data for Data Cleaning.csv')\n",
    "housing"
   ]
  },
  {
   "cell_type": "markdown",
   "id": "57a51476",
   "metadata": {},
   "source": [
    "### Conducting intial Data Exploration to explore the dataset for duplicate values, missing values, data types for each feature and summary statistics:"
   ]
  },
  {
   "cell_type": "code",
   "execution_count": 80,
   "id": "029ec492",
   "metadata": {},
   "outputs": [
    {
     "data": {
      "text/plain": [
       "False    56477\n",
       "dtype: int64"
      ]
     },
     "execution_count": 80,
     "metadata": {},
     "output_type": "execute_result"
    }
   ],
   "source": [
    "housing.duplicated().value_counts()"
   ]
  },
  {
   "cell_type": "code",
   "execution_count": 81,
   "id": "da36596e",
   "metadata": {},
   "outputs": [
    {
     "data": {
      "text/plain": [
       "UniqueID             int64\n",
       "ParcelID            object\n",
       "LandUse             object\n",
       "PropertyAddress     object\n",
       "SaleDate            object\n",
       "SalePrice           object\n",
       "LegalReference      object\n",
       "SoldAsVacant        object\n",
       "OwnerName           object\n",
       "OwnerAddress        object\n",
       "Acreage            float64\n",
       "TaxDistrict         object\n",
       "LandValue          float64\n",
       "BuildingValue      float64\n",
       "TotalValue         float64\n",
       "YearBuilt          float64\n",
       "Bedrooms           float64\n",
       "FullBath           float64\n",
       "HalfBath           float64\n",
       "dtype: object"
      ]
     },
     "execution_count": 81,
     "metadata": {},
     "output_type": "execute_result"
    }
   ],
   "source": [
    "housing.dtypes"
   ]
  },
  {
   "cell_type": "code",
   "execution_count": 82,
   "id": "28477d0c",
   "metadata": {},
   "outputs": [
    {
     "data": {
      "text/plain": [
       "UniqueID               0\n",
       "ParcelID               0\n",
       "LandUse                0\n",
       "PropertyAddress       29\n",
       "SaleDate               0\n",
       "SalePrice              0\n",
       "LegalReference         0\n",
       "SoldAsVacant           0\n",
       "OwnerName          31216\n",
       "OwnerAddress       30462\n",
       "Acreage            30462\n",
       "TaxDistrict        30462\n",
       "LandValue          30462\n",
       "BuildingValue      30462\n",
       "TotalValue         30462\n",
       "YearBuilt          32314\n",
       "Bedrooms           32320\n",
       "FullBath           32202\n",
       "HalfBath           32333\n",
       "dtype: int64"
      ]
     },
     "execution_count": 82,
     "metadata": {},
     "output_type": "execute_result"
    }
   ],
   "source": [
    "housing.isnull().sum()"
   ]
  },
  {
   "cell_type": "code",
   "execution_count": 83,
   "id": "6cab1993",
   "metadata": {},
   "outputs": [
    {
     "data": {
      "text/html": [
       "<div>\n",
       "<style scoped>\n",
       "    .dataframe tbody tr th:only-of-type {\n",
       "        vertical-align: middle;\n",
       "    }\n",
       "\n",
       "    .dataframe tbody tr th {\n",
       "        vertical-align: top;\n",
       "    }\n",
       "\n",
       "    .dataframe thead th {\n",
       "        text-align: right;\n",
       "    }\n",
       "</style>\n",
       "<table border=\"1\" class=\"dataframe\">\n",
       "  <thead>\n",
       "    <tr style=\"text-align: right;\">\n",
       "      <th></th>\n",
       "      <th>UniqueID</th>\n",
       "      <th>Acreage</th>\n",
       "      <th>LandValue</th>\n",
       "      <th>BuildingValue</th>\n",
       "      <th>TotalValue</th>\n",
       "      <th>YearBuilt</th>\n",
       "      <th>Bedrooms</th>\n",
       "      <th>FullBath</th>\n",
       "      <th>HalfBath</th>\n",
       "    </tr>\n",
       "  </thead>\n",
       "  <tbody>\n",
       "    <tr>\n",
       "      <th>count</th>\n",
       "      <td>56477.000000</td>\n",
       "      <td>26015.000000</td>\n",
       "      <td>2.601500e+04</td>\n",
       "      <td>2.601500e+04</td>\n",
       "      <td>2.601500e+04</td>\n",
       "      <td>24163.000000</td>\n",
       "      <td>24157.000000</td>\n",
       "      <td>24275.000000</td>\n",
       "      <td>24144.000000</td>\n",
       "    </tr>\n",
       "    <tr>\n",
       "      <th>mean</th>\n",
       "      <td>28334.001133</td>\n",
       "      <td>0.498923</td>\n",
       "      <td>6.906856e+04</td>\n",
       "      <td>1.607847e+05</td>\n",
       "      <td>2.323754e+05</td>\n",
       "      <td>1963.744899</td>\n",
       "      <td>3.089912</td>\n",
       "      <td>1.886014</td>\n",
       "      <td>0.283921</td>\n",
       "    </tr>\n",
       "    <tr>\n",
       "      <th>std</th>\n",
       "      <td>16352.590651</td>\n",
       "      <td>1.570454</td>\n",
       "      <td>1.060401e+05</td>\n",
       "      <td>2.067999e+05</td>\n",
       "      <td>2.810643e+05</td>\n",
       "      <td>26.542982</td>\n",
       "      <td>0.852869</td>\n",
       "      <td>0.961515</td>\n",
       "      <td>0.487881</td>\n",
       "    </tr>\n",
       "    <tr>\n",
       "      <th>min</th>\n",
       "      <td>0.000000</td>\n",
       "      <td>0.010000</td>\n",
       "      <td>1.000000e+02</td>\n",
       "      <td>0.000000e+00</td>\n",
       "      <td>1.000000e+02</td>\n",
       "      <td>1799.000000</td>\n",
       "      <td>0.000000</td>\n",
       "      <td>0.000000</td>\n",
       "      <td>0.000000</td>\n",
       "    </tr>\n",
       "    <tr>\n",
       "      <th>25%</th>\n",
       "      <td>14186.000000</td>\n",
       "      <td>0.180000</td>\n",
       "      <td>2.100000e+04</td>\n",
       "      <td>7.590000e+04</td>\n",
       "      <td>1.028000e+05</td>\n",
       "      <td>1948.000000</td>\n",
       "      <td>3.000000</td>\n",
       "      <td>1.000000</td>\n",
       "      <td>0.000000</td>\n",
       "    </tr>\n",
       "    <tr>\n",
       "      <th>50%</th>\n",
       "      <td>28313.000000</td>\n",
       "      <td>0.270000</td>\n",
       "      <td>2.880000e+04</td>\n",
       "      <td>1.114000e+05</td>\n",
       "      <td>1.485000e+05</td>\n",
       "      <td>1960.000000</td>\n",
       "      <td>3.000000</td>\n",
       "      <td>2.000000</td>\n",
       "      <td>0.000000</td>\n",
       "    </tr>\n",
       "    <tr>\n",
       "      <th>75%</th>\n",
       "      <td>42513.000000</td>\n",
       "      <td>0.450000</td>\n",
       "      <td>6.000000e+04</td>\n",
       "      <td>1.807000e+05</td>\n",
       "      <td>2.683500e+05</td>\n",
       "      <td>1983.000000</td>\n",
       "      <td>3.000000</td>\n",
       "      <td>2.000000</td>\n",
       "      <td>1.000000</td>\n",
       "    </tr>\n",
       "    <tr>\n",
       "      <th>max</th>\n",
       "      <td>56635.000000</td>\n",
       "      <td>160.060000</td>\n",
       "      <td>2.772000e+06</td>\n",
       "      <td>1.297180e+07</td>\n",
       "      <td>1.394040e+07</td>\n",
       "      <td>2017.000000</td>\n",
       "      <td>11.000000</td>\n",
       "      <td>10.000000</td>\n",
       "      <td>3.000000</td>\n",
       "    </tr>\n",
       "  </tbody>\n",
       "</table>\n",
       "</div>"
      ],
      "text/plain": [
       "          UniqueID        Acreage     LandValue  BuildingValue    TotalValue  \\\n",
       "count  56477.000000  26015.000000  2.601500e+04   2.601500e+04  2.601500e+04   \n",
       "mean   28334.001133      0.498923  6.906856e+04   1.607847e+05  2.323754e+05   \n",
       "std    16352.590651      1.570454  1.060401e+05   2.067999e+05  2.810643e+05   \n",
       "min        0.000000      0.010000  1.000000e+02   0.000000e+00  1.000000e+02   \n",
       "25%    14186.000000      0.180000  2.100000e+04   7.590000e+04  1.028000e+05   \n",
       "50%    28313.000000      0.270000  2.880000e+04   1.114000e+05  1.485000e+05   \n",
       "75%    42513.000000      0.450000  6.000000e+04   1.807000e+05  2.683500e+05   \n",
       "max    56635.000000    160.060000  2.772000e+06   1.297180e+07  1.394040e+07   \n",
       "\n",
       "          YearBuilt      Bedrooms      FullBath      HalfBath  \n",
       "count  24163.000000  24157.000000  24275.000000  24144.000000  \n",
       "mean    1963.744899      3.089912      1.886014      0.283921  \n",
       "std       26.542982      0.852869      0.961515      0.487881  \n",
       "min     1799.000000      0.000000      0.000000      0.000000  \n",
       "25%     1948.000000      3.000000      1.000000      0.000000  \n",
       "50%     1960.000000      3.000000      2.000000      0.000000  \n",
       "75%     1983.000000      3.000000      2.000000      1.000000  \n",
       "max     2017.000000     11.000000     10.000000      3.000000  "
      ]
     },
     "execution_count": 83,
     "metadata": {},
     "output_type": "execute_result"
    }
   ],
   "source": [
    "housing.describe()"
   ]
  },
  {
   "cell_type": "markdown",
   "id": "fe674ef4",
   "metadata": {},
   "source": [
    "### The list of issues to tidy within the original dataset:"
   ]
  },
  {
   "cell_type": "markdown",
   "id": "d57d3871",
   "metadata": {},
   "source": [
    "#### 1) We notice that the dataset has a plethora of missing values, majority of which are missing alongside multiple other features. This indicates the data is primarily MNAR and makes up more than 50% of the dataset.\n",
    "\n",
    "#### As a result of this, single or multiple imputation would not be apprioriate and the best decision would be to delete all missing values. The resulting dataset would contain just less than 50% of the original dataset, consisting of more than 23,000 non-empty rows of data, making it still a large enough sample to conduct EDA and Machine Learning."
   ]
  },
  {
   "cell_type": "code",
   "execution_count": 84,
   "id": "ad2c75f6",
   "metadata": {},
   "outputs": [],
   "source": [
    "housing.dropna(inplace = True)"
   ]
  },
  {
   "cell_type": "code",
   "execution_count": 85,
   "id": "d239e5d6",
   "metadata": {},
   "outputs": [
    {
     "data": {
      "text/plain": [
       "UniqueID           0\n",
       "ParcelID           0\n",
       "LandUse            0\n",
       "PropertyAddress    0\n",
       "SaleDate           0\n",
       "SalePrice          0\n",
       "LegalReference     0\n",
       "SoldAsVacant       0\n",
       "OwnerName          0\n",
       "OwnerAddress       0\n",
       "Acreage            0\n",
       "TaxDistrict        0\n",
       "LandValue          0\n",
       "BuildingValue      0\n",
       "TotalValue         0\n",
       "YearBuilt          0\n",
       "Bedrooms           0\n",
       "FullBath           0\n",
       "HalfBath           0\n",
       "dtype: int64"
      ]
     },
     "execution_count": 85,
     "metadata": {},
     "output_type": "execute_result"
    }
   ],
   "source": [
    "housing.isnull().sum()"
   ]
  },
  {
   "cell_type": "code",
   "execution_count": 86,
   "id": "549843c2",
   "metadata": {},
   "outputs": [
    {
     "data": {
      "text/plain": [
       "(23705, 19)"
      ]
     },
     "execution_count": 86,
     "metadata": {},
     "output_type": "execute_result"
    }
   ],
   "source": [
    "housing.shape"
   ]
  },
  {
   "cell_type": "markdown",
   "id": "4e1c5dc9",
   "metadata": {},
   "source": [
    "#### 2) The number of unique types of housing (\"LandUse\") - we can factorise these into the following categories to clean up the dataset: Industrial, Residential, Commercial & Land:"
   ]
  },
  {
   "cell_type": "code",
   "execution_count": 87,
   "id": "cc85d592",
   "metadata": {},
   "outputs": [
    {
     "data": {
      "text/plain": [
       "array(['SINGLE FAMILY', 'VACANT RES LAND', 'DUPLEX',\n",
       "       'VACANT RESIDENTIAL LAND', 'CHURCH', 'ZERO LOT LINE', 'PARSONAGE',\n",
       "       'OFFICE BLDG (ONE OR TWO STORIES)',\n",
       "       'GREENBELT/RES\\r\\nGRRENBELT/RES', 'CLUB/UNION HALL/LODGE',\n",
       "       'MOBILE HOME', 'TRIPLEX', 'SPLIT CLASS', 'QUADPLEX',\n",
       "       'RESIDENTIAL COMBO/MISC', 'LIGHT MANUFACTURING',\n",
       "       'CONVENIENCE MARKET WITHOUT GAS', 'DORMITORY/BOARDING HOUSE',\n",
       "       'FOREST', 'DAY CARE CENTER', 'TERMINAL/DISTRIBUTION WAREHOUSE',\n",
       "       'STRIP SHOPPING CENTER', 'APARTMENT: LOW RISE (BUILT SINCE 1960)',\n",
       "       'ONE STORY GENERAL RETAIL STORE', 'GREENBELT',\n",
       "       'NON-PROFIT CHARITABLE SERVICE'], dtype=object)"
      ]
     },
     "execution_count": 87,
     "metadata": {},
     "output_type": "execute_result"
    }
   ],
   "source": [
    "housing.LandUse.unique()"
   ]
  },
  {
   "cell_type": "code",
   "execution_count": 88,
   "id": "76066e02",
   "metadata": {},
   "outputs": [
    {
     "data": {
      "text/plain": [
       "26"
      ]
     },
     "execution_count": 88,
     "metadata": {},
     "output_type": "execute_result"
    }
   ],
   "source": [
    "housing.LandUse.nunique()"
   ]
  },
  {
   "cell_type": "code",
   "execution_count": 89,
   "id": "4868e4ef",
   "metadata": {},
   "outputs": [],
   "source": [
    "# We can apply a function to the feature 'LandUse' which factorises the 39 unique housing types into the 4 categories disucssed\n",
    "\n",
    "list1 = ['SINGLE FAMILY','RESIDENTIAL CONDO','DUPLEX','VACANT RESIDENTIAL LAND','RESIDENTIAL COMBO/MISC','PARSONAGE', 'GREENBELT/RES\\r\\nGRRENBELT/RES','MOBILE HOME','TRIPLEX','VACANT ZONED MULTI FAMILY','CONDO','QUADPLEX','DORMITORY/BOARDING HOUSE','GREENBELT','CONDOMINIUM OFC  OR OTHER COM CONDO','VACANT RESIENTIAL LAND','APARTMENT: LOW RISE (BUILT SINCE 1960)','ZERO LOT LINE','SPLIT CLASS']\n",
    "list2 = ['CHURCH','OFFICE BLDG (ONE OR TWO STORIES','PARKING LOT','CLUB/UNION HALL/LODGE','CONVENIENCE MARKET WITHOUT GAS','DAY CARE CENTER','METRO OTHER THAN OFC, SCHOOL,HOSP, OR PARK','NIGHTCLUB/LOUNGE','RESTURANT/CAFETERIA','STRIP SHOPPING CENTER','ONE STORY GENERAL RETAIL STORE', 'NON-PROFIT CHARITABLE SERVICE','SMALL SERVICE SHOP', 'MORTUARY/CEMETERY']\n",
    "list3 = ['VACANT RURAL LAND','VACANT RES LAND','VACANT RESIDENTIAL LAND','VACANT COMMERCIAL LAND','VACANT RESIENTIAL LAND']\n",
    "\n",
    "def use(row):\n",
    "    if row in list1:\n",
    "        return 'Residential'\n",
    "    elif row in list2:\n",
    "        return 'Commercial'\n",
    "    elif row in list3:\n",
    "        return 'Land'\n",
    "    else:\n",
    "        return 'Industrial'\n",
    "    \n",
    "housing.LandUse = housing.LandUse.apply(use)"
   ]
  },
  {
   "cell_type": "code",
   "execution_count": 90,
   "id": "4b1b4401",
   "metadata": {},
   "outputs": [
    {
     "data": {
      "text/plain": [
       "array(['Residential', 'Land', 'Commercial', 'Industrial'], dtype=object)"
      ]
     },
     "execution_count": 90,
     "metadata": {},
     "output_type": "execute_result"
    }
   ],
   "source": [
    "# To confirm whether this lambda function has been applied correctly, let us now see the unique values in the 'LandUse' feature:\n",
    "\n",
    "housing.LandUse.unique()"
   ]
  },
  {
   "cell_type": "markdown",
   "id": "9a1e1ca1",
   "metadata": {},
   "source": [
    "#### 3) The \"SoldAsVacant\"  Feature contains the following 4 unique values: \"Yes\", \"No\", \"Y\", \"N\"\n",
    "\n",
    "#### In order to tidy up this feature, we can apply a lambda function to factorise the feature values into the following 2 binary variables: \"Yes\" & \"No\":"
   ]
  },
  {
   "cell_type": "code",
   "execution_count": 91,
   "id": "2b6c1b1b",
   "metadata": {},
   "outputs": [
    {
     "data": {
      "text/plain": [
       "array(['No', 'N', 'Yes', 'Y'], dtype=object)"
      ]
     },
     "execution_count": 91,
     "metadata": {},
     "output_type": "execute_result"
    }
   ],
   "source": [
    "housing.SoldAsVacant.unique()"
   ]
  },
  {
   "cell_type": "code",
   "execution_count": 92,
   "id": "6f42456b",
   "metadata": {},
   "outputs": [],
   "source": [
    "housing.SoldAsVacant = housing.SoldAsVacant.apply(lambda x: \"Yes\" if x == \"Yes\" or x == \"Y\" else \"No\")"
   ]
  },
  {
   "cell_type": "code",
   "execution_count": 93,
   "id": "30bd5a2d",
   "metadata": {},
   "outputs": [
    {
     "data": {
      "text/plain": [
       "array(['No', 'Yes'], dtype=object)"
      ]
     },
     "execution_count": 93,
     "metadata": {},
     "output_type": "execute_result"
    }
   ],
   "source": [
    "# Confirming the following lambda function worked:\n",
    "\n",
    "housing.SoldAsVacant.unique()"
   ]
  },
  {
   "cell_type": "markdown",
   "id": "dc845386",
   "metadata": {},
   "source": [
    "#### 4) We notice that the following columns have float data types when the feature variables are integers: YearBuilt, Bedrooms, FullBath, HalfBath\n",
    "\n",
    "#### We will convert these feature data types to integers to correctly represent the data type"
   ]
  },
  {
   "cell_type": "code",
   "execution_count": 94,
   "id": "9bf6bd2d",
   "metadata": {},
   "outputs": [
    {
     "data": {
      "text/plain": [
       "YearBuilt    float64\n",
       "Bedrooms     float64\n",
       "FullBath     float64\n",
       "HalfBath     float64\n",
       "dtype: object"
      ]
     },
     "execution_count": 94,
     "metadata": {},
     "output_type": "execute_result"
    }
   ],
   "source": [
    "housing[['YearBuilt','Bedrooms','FullBath','HalfBath']].dtypes"
   ]
  },
  {
   "cell_type": "code",
   "execution_count": 95,
   "id": "edf4b284",
   "metadata": {},
   "outputs": [],
   "source": [
    "housing.YearBuilt = housing.YearBuilt.astype('int')\n",
    "housing.Bedrooms = housing.Bedrooms.astype('int')\n",
    "housing.FullBath = housing.FullBath.astype('int')\n",
    "housing.HalfBath = housing.HalfBath.astype('int')"
   ]
  },
  {
   "cell_type": "code",
   "execution_count": 96,
   "id": "72c773bb",
   "metadata": {},
   "outputs": [
    {
     "data": {
      "text/plain": [
       "YearBuilt    int32\n",
       "Bedrooms     int32\n",
       "FullBath     int32\n",
       "HalfBath     int32\n",
       "dtype: object"
      ]
     },
     "execution_count": 96,
     "metadata": {},
     "output_type": "execute_result"
    }
   ],
   "source": [
    "housing[['YearBuilt','Bedrooms','FullBath','HalfBath']].dtypes"
   ]
  },
  {
   "cell_type": "markdown",
   "id": "2b6c5c8a",
   "metadata": {},
   "source": [
    "#### 5) Removing features that are not important to housing market analysis we may wish to conduct, these features include: OwnerName, LegalReference, ParcelID"
   ]
  },
  {
   "cell_type": "code",
   "execution_count": 97,
   "id": "4b600884",
   "metadata": {},
   "outputs": [],
   "source": [
    "housing.drop(['OwnerName','ParcelID','LegalReference'], axis =1, inplace=True)"
   ]
  },
  {
   "cell_type": "markdown",
   "id": "c8089860",
   "metadata": {},
   "source": [
    "#### 6) Making the TaxDistrict, PropertyAddress, OwnerAddress string values neater:"
   ]
  },
  {
   "cell_type": "code",
   "execution_count": 98,
   "id": "db6ae979",
   "metadata": {},
   "outputs": [],
   "source": [
    "housing.TaxDistrict = housing.TaxDistrict.str.title()\n",
    "housing.PropertyAddress = housing.PropertyAddress.str.title()\n",
    "housing.OwnerAddress = housing.OwnerAddress.str.title()"
   ]
  },
  {
   "cell_type": "code",
   "execution_count": 99,
   "id": "33f14022",
   "metadata": {},
   "outputs": [],
   "source": [
    "housing['PropertyAddressSplit'] = housing.PropertyAddress.str.split(',')\n",
    "housing.PropertyAddress = housing.PropertyAddressSplit.str.get(1)"
   ]
  },
  {
   "cell_type": "code",
   "execution_count": 100,
   "id": "0116b007",
   "metadata": {},
   "outputs": [],
   "source": [
    "housing['OwnerAddressSplit'] = housing.OwnerAddress.str.split(',')\n",
    "housing.OwnerAddress = housing.OwnerAddressSplit.str.get(1)"
   ]
  },
  {
   "cell_type": "code",
   "execution_count": 101,
   "id": "1d677e1f",
   "metadata": {},
   "outputs": [],
   "source": [
    "housing = housing.drop(['PropertyAddressSplit','OwnerAddressSplit'], axis = True)"
   ]
  },
  {
   "cell_type": "code",
   "execution_count": 102,
   "id": "2988d7ba",
   "metadata": {},
   "outputs": [
    {
     "data": {
      "text/plain": [
       "array([' Goodlettsville', ' Joelton', ' Madison', ' Nashville',\n",
       "       ' Whites Creek', ' Old Hickory', ' Hermitage', ' Mount Juliet',\n",
       "       ' Antioch', ' Brentwood'], dtype=object)"
      ]
     },
     "execution_count": 102,
     "metadata": {},
     "output_type": "execute_result"
    }
   ],
   "source": [
    "housing.OwnerAddress.unique()"
   ]
  },
  {
   "cell_type": "code",
   "execution_count": 103,
   "id": "70ffc623",
   "metadata": {},
   "outputs": [
    {
     "data": {
      "text/plain": [
       "array([' Goodlettsville', ' Joelton', ' Madison', ' Nashville',\n",
       "       ' Whites Creek', ' Old Hickory', ' Hermitage', ' Mount Juliet',\n",
       "       ' Antioch', ' Brentwood'], dtype=object)"
      ]
     },
     "execution_count": 103,
     "metadata": {},
     "output_type": "execute_result"
    }
   ],
   "source": [
    "housing.PropertyAddress.unique()"
   ]
  },
  {
   "cell_type": "markdown",
   "id": "ef9d4ecc",
   "metadata": {},
   "source": [
    "#### 7) Modifying the SaleDate Feature to change the data type from object to datetime as well as displaying the dataset in order of descending SaleDate:"
   ]
  },
  {
   "cell_type": "code",
   "execution_count": 104,
   "id": "358e971d",
   "metadata": {},
   "outputs": [
    {
     "data": {
      "text/plain": [
       "UniqueID                    int64\n",
       "LandUse                    object\n",
       "PropertyAddress            object\n",
       "SaleDate           datetime64[ns]\n",
       "SalePrice                  object\n",
       "SoldAsVacant               object\n",
       "OwnerAddress               object\n",
       "Acreage                   float64\n",
       "TaxDistrict                object\n",
       "LandValue                 float64\n",
       "BuildingValue             float64\n",
       "TotalValue                float64\n",
       "YearBuilt                   int32\n",
       "Bedrooms                    int32\n",
       "FullBath                    int32\n",
       "HalfBath                    int32\n",
       "dtype: object"
      ]
     },
     "execution_count": 104,
     "metadata": {},
     "output_type": "execute_result"
    }
   ],
   "source": [
    "housing.SaleDate = pd.to_datetime(housing.SaleDate)\n",
    "housing.dtypes"
   ]
  },
  {
   "cell_type": "code",
   "execution_count": 105,
   "id": "4f42700e",
   "metadata": {},
   "outputs": [],
   "source": [
    "housing.sort_values('SaleDate', ascending = False, inplace=True)"
   ]
  },
  {
   "cell_type": "markdown",
   "id": "8902fc6c",
   "metadata": {},
   "source": [
    "#### 8) Resetting the index for the final, completed cleaned dataframe:"
   ]
  },
  {
   "cell_type": "code",
   "execution_count": 111,
   "id": "a8b29747",
   "metadata": {},
   "outputs": [],
   "source": [
    "housing.reset_index(drop=True, inplace=True)"
   ]
  },
  {
   "cell_type": "markdown",
   "id": "92959f5f",
   "metadata": {},
   "source": [
    "#### 9) Converting the TaxDistrict Feature from an object data type to a string:"
   ]
  },
  {
   "cell_type": "code",
   "execution_count": 116,
   "id": "55b05baf",
   "metadata": {},
   "outputs": [
    {
     "data": {
      "text/plain": [
       "array(['Urban Services District', 'General Services District',\n",
       "       'City Of Goodlettsville', 'City Of Oak Hill',\n",
       "       'City Of Belle Meade', 'City Of Forest Hills',\n",
       "       'City Of Berry Hill'], dtype=object)"
      ]
     },
     "execution_count": 116,
     "metadata": {},
     "output_type": "execute_result"
    }
   ],
   "source": [
    "housing.TaxDistrict.unique()"
   ]
  },
  {
   "cell_type": "code",
   "execution_count": 117,
   "id": "ca388735",
   "metadata": {},
   "outputs": [],
   "source": [
    "housing.TaxDistrict = housing.TaxDistrict.astype('str')"
   ]
  },
  {
   "cell_type": "markdown",
   "id": "4f7c6b97",
   "metadata": {},
   "source": [
    "### Now I list the summary statistics, data types and the final dataframe for the cleaned dataset:"
   ]
  },
  {
   "cell_type": "code",
   "execution_count": 118,
   "id": "bffc370a",
   "metadata": {},
   "outputs": [
    {
     "data": {
      "text/plain": [
       "UniqueID                    int64\n",
       "LandUse                    object\n",
       "PropertyAddress            object\n",
       "SaleDate           datetime64[ns]\n",
       "SalePrice                  object\n",
       "SoldAsVacant               object\n",
       "OwnerAddress               object\n",
       "Acreage                   float64\n",
       "TaxDistrict                object\n",
       "LandValue                 float64\n",
       "BuildingValue             float64\n",
       "TotalValue                float64\n",
       "YearBuilt                   int32\n",
       "Bedrooms                    int32\n",
       "FullBath                    int32\n",
       "HalfBath                    int32\n",
       "dtype: object"
      ]
     },
     "execution_count": 118,
     "metadata": {},
     "output_type": "execute_result"
    }
   ],
   "source": [
    "housing.dtypes"
   ]
  },
  {
   "cell_type": "code",
   "execution_count": 114,
   "id": "972227f3",
   "metadata": {},
   "outputs": [
    {
     "data": {
      "text/html": [
       "<div>\n",
       "<style scoped>\n",
       "    .dataframe tbody tr th:only-of-type {\n",
       "        vertical-align: middle;\n",
       "    }\n",
       "\n",
       "    .dataframe tbody tr th {\n",
       "        vertical-align: top;\n",
       "    }\n",
       "\n",
       "    .dataframe thead th {\n",
       "        text-align: right;\n",
       "    }\n",
       "</style>\n",
       "<table border=\"1\" class=\"dataframe\">\n",
       "  <thead>\n",
       "    <tr style=\"text-align: right;\">\n",
       "      <th></th>\n",
       "      <th>UniqueID</th>\n",
       "      <th>Acreage</th>\n",
       "      <th>LandValue</th>\n",
       "      <th>BuildingValue</th>\n",
       "      <th>TotalValue</th>\n",
       "      <th>YearBuilt</th>\n",
       "      <th>Bedrooms</th>\n",
       "      <th>FullBath</th>\n",
       "      <th>HalfBath</th>\n",
       "    </tr>\n",
       "  </thead>\n",
       "  <tbody>\n",
       "    <tr>\n",
       "      <th>count</th>\n",
       "      <td>23705.000000</td>\n",
       "      <td>23705.000000</td>\n",
       "      <td>2.370500e+04</td>\n",
       "      <td>2.370500e+04</td>\n",
       "      <td>2.370500e+04</td>\n",
       "      <td>23705.000000</td>\n",
       "      <td>23705.000000</td>\n",
       "      <td>23705.000000</td>\n",
       "      <td>23705.000000</td>\n",
       "    </tr>\n",
       "    <tr>\n",
       "      <th>mean</th>\n",
       "      <td>27584.465260</td>\n",
       "      <td>0.455836</td>\n",
       "      <td>6.904970e+04</td>\n",
       "      <td>1.730583e+05</td>\n",
       "      <td>2.447819e+05</td>\n",
       "      <td>1963.723139</td>\n",
       "      <td>3.094115</td>\n",
       "      <td>1.896984</td>\n",
       "      <td>0.286648</td>\n",
       "    </tr>\n",
       "    <tr>\n",
       "      <th>std</th>\n",
       "      <td>16549.621489</td>\n",
       "      <td>0.793932</td>\n",
       "      <td>1.021612e+05</td>\n",
       "      <td>1.935828e+05</td>\n",
       "      <td>2.723682e+05</td>\n",
       "      <td>26.385627</td>\n",
       "      <td>0.850667</td>\n",
       "      <td>0.955172</td>\n",
       "      <td>0.489565</td>\n",
       "    </tr>\n",
       "    <tr>\n",
       "      <th>min</th>\n",
       "      <td>1.000000</td>\n",
       "      <td>0.040000</td>\n",
       "      <td>1.000000e+02</td>\n",
       "      <td>1.400000e+03</td>\n",
       "      <td>1.260000e+04</td>\n",
       "      <td>1799.000000</td>\n",
       "      <td>0.000000</td>\n",
       "      <td>0.000000</td>\n",
       "      <td>0.000000</td>\n",
       "    </tr>\n",
       "    <tr>\n",
       "      <th>25%</th>\n",
       "      <td>13068.000000</td>\n",
       "      <td>0.190000</td>\n",
       "      <td>2.200000e+04</td>\n",
       "      <td>8.390000e+04</td>\n",
       "      <td>1.098000e+05</td>\n",
       "      <td>1948.000000</td>\n",
       "      <td>3.000000</td>\n",
       "      <td>1.000000</td>\n",
       "      <td>0.000000</td>\n",
       "    </tr>\n",
       "    <tr>\n",
       "      <th>50%</th>\n",
       "      <td>27214.000000</td>\n",
       "      <td>0.270000</td>\n",
       "      <td>2.990000e+04</td>\n",
       "      <td>1.176000e+05</td>\n",
       "      <td>1.548000e+05</td>\n",
       "      <td>1960.000000</td>\n",
       "      <td>3.000000</td>\n",
       "      <td>2.000000</td>\n",
       "      <td>0.000000</td>\n",
       "    </tr>\n",
       "    <tr>\n",
       "      <th>75%</th>\n",
       "      <td>42016.000000</td>\n",
       "      <td>0.450000</td>\n",
       "      <td>6.030000e+04</td>\n",
       "      <td>1.892000e+05</td>\n",
       "      <td>2.782000e+05</td>\n",
       "      <td>1983.000000</td>\n",
       "      <td>4.000000</td>\n",
       "      <td>2.000000</td>\n",
       "      <td>1.000000</td>\n",
       "    </tr>\n",
       "    <tr>\n",
       "      <th>max</th>\n",
       "      <td>56615.000000</td>\n",
       "      <td>47.500000</td>\n",
       "      <td>1.869000e+06</td>\n",
       "      <td>5.824300e+06</td>\n",
       "      <td>6.402600e+06</td>\n",
       "      <td>2017.000000</td>\n",
       "      <td>11.000000</td>\n",
       "      <td>10.000000</td>\n",
       "      <td>3.000000</td>\n",
       "    </tr>\n",
       "  </tbody>\n",
       "</table>\n",
       "</div>"
      ],
      "text/plain": [
       "          UniqueID        Acreage     LandValue  BuildingValue    TotalValue  \\\n",
       "count  23705.000000  23705.000000  2.370500e+04   2.370500e+04  2.370500e+04   \n",
       "mean   27584.465260      0.455836  6.904970e+04   1.730583e+05  2.447819e+05   \n",
       "std    16549.621489      0.793932  1.021612e+05   1.935828e+05  2.723682e+05   \n",
       "min        1.000000      0.040000  1.000000e+02   1.400000e+03  1.260000e+04   \n",
       "25%    13068.000000      0.190000  2.200000e+04   8.390000e+04  1.098000e+05   \n",
       "50%    27214.000000      0.270000  2.990000e+04   1.176000e+05  1.548000e+05   \n",
       "75%    42016.000000      0.450000  6.030000e+04   1.892000e+05  2.782000e+05   \n",
       "max    56615.000000     47.500000  1.869000e+06   5.824300e+06  6.402600e+06   \n",
       "\n",
       "          YearBuilt      Bedrooms      FullBath      HalfBath  \n",
       "count  23705.000000  23705.000000  23705.000000  23705.000000  \n",
       "mean    1963.723139      3.094115      1.896984      0.286648  \n",
       "std       26.385627      0.850667      0.955172      0.489565  \n",
       "min     1799.000000      0.000000      0.000000      0.000000  \n",
       "25%     1948.000000      3.000000      1.000000      0.000000  \n",
       "50%     1960.000000      3.000000      2.000000      0.000000  \n",
       "75%     1983.000000      4.000000      2.000000      1.000000  \n",
       "max     2017.000000     11.000000     10.000000      3.000000  "
      ]
     },
     "execution_count": 114,
     "metadata": {},
     "output_type": "execute_result"
    }
   ],
   "source": [
    "housing.describe()"
   ]
  },
  {
   "cell_type": "code",
   "execution_count": 119,
   "id": "b5148baf",
   "metadata": {},
   "outputs": [
    {
     "data": {
      "text/html": [
       "<div>\n",
       "<style scoped>\n",
       "    .dataframe tbody tr th:only-of-type {\n",
       "        vertical-align: middle;\n",
       "    }\n",
       "\n",
       "    .dataframe tbody tr th {\n",
       "        vertical-align: top;\n",
       "    }\n",
       "\n",
       "    .dataframe thead th {\n",
       "        text-align: right;\n",
       "    }\n",
       "</style>\n",
       "<table border=\"1\" class=\"dataframe\">\n",
       "  <thead>\n",
       "    <tr style=\"text-align: right;\">\n",
       "      <th></th>\n",
       "      <th>UniqueID</th>\n",
       "      <th>LandUse</th>\n",
       "      <th>PropertyAddress</th>\n",
       "      <th>SaleDate</th>\n",
       "      <th>SalePrice</th>\n",
       "      <th>SoldAsVacant</th>\n",
       "      <th>OwnerAddress</th>\n",
       "      <th>Acreage</th>\n",
       "      <th>TaxDistrict</th>\n",
       "      <th>LandValue</th>\n",
       "      <th>BuildingValue</th>\n",
       "      <th>TotalValue</th>\n",
       "      <th>YearBuilt</th>\n",
       "      <th>Bedrooms</th>\n",
       "      <th>FullBath</th>\n",
       "      <th>HalfBath</th>\n",
       "    </tr>\n",
       "  </thead>\n",
       "  <tbody>\n",
       "    <tr>\n",
       "      <th>0</th>\n",
       "      <td>25542</td>\n",
       "      <td>Residential</td>\n",
       "      <td>Antioch</td>\n",
       "      <td>2019-12-13</td>\n",
       "      <td>118500</td>\n",
       "      <td>No</td>\n",
       "      <td>Antioch</td>\n",
       "      <td>0.24</td>\n",
       "      <td>Urban Services District</td>\n",
       "      <td>22000.0</td>\n",
       "      <td>67500.0</td>\n",
       "      <td>89500.0</td>\n",
       "      <td>1991</td>\n",
       "      <td>3</td>\n",
       "      <td>2</td>\n",
       "      <td>0</td>\n",
       "    </tr>\n",
       "    <tr>\n",
       "      <th>1</th>\n",
       "      <td>55343</td>\n",
       "      <td>Residential</td>\n",
       "      <td>Nashville</td>\n",
       "      <td>2016-10-31</td>\n",
       "      <td>205000</td>\n",
       "      <td>No</td>\n",
       "      <td>Nashville</td>\n",
       "      <td>0.35</td>\n",
       "      <td>Urban Services District</td>\n",
       "      <td>26000.0</td>\n",
       "      <td>85500.0</td>\n",
       "      <td>111500.0</td>\n",
       "      <td>1954</td>\n",
       "      <td>3</td>\n",
       "      <td>1</td>\n",
       "      <td>0</td>\n",
       "    </tr>\n",
       "    <tr>\n",
       "      <th>2</th>\n",
       "      <td>55740</td>\n",
       "      <td>Residential</td>\n",
       "      <td>Nashville</td>\n",
       "      <td>2016-10-31</td>\n",
       "      <td>412000</td>\n",
       "      <td>No</td>\n",
       "      <td>Nashville</td>\n",
       "      <td>0.35</td>\n",
       "      <td>Urban Services District</td>\n",
       "      <td>176000.0</td>\n",
       "      <td>99600.0</td>\n",
       "      <td>280100.0</td>\n",
       "      <td>1952</td>\n",
       "      <td>2</td>\n",
       "      <td>1</td>\n",
       "      <td>0</td>\n",
       "    </tr>\n",
       "    <tr>\n",
       "      <th>3</th>\n",
       "      <td>56328</td>\n",
       "      <td>Residential</td>\n",
       "      <td>Old Hickory</td>\n",
       "      <td>2016-10-31</td>\n",
       "      <td>465000</td>\n",
       "      <td>No</td>\n",
       "      <td>Old Hickory</td>\n",
       "      <td>0.41</td>\n",
       "      <td>General Services District</td>\n",
       "      <td>90000.0</td>\n",
       "      <td>308400.0</td>\n",
       "      <td>398400.0</td>\n",
       "      <td>2003</td>\n",
       "      <td>4</td>\n",
       "      <td>3</td>\n",
       "      <td>1</td>\n",
       "    </tr>\n",
       "    <tr>\n",
       "      <th>4</th>\n",
       "      <td>56231</td>\n",
       "      <td>Residential</td>\n",
       "      <td>Nashville</td>\n",
       "      <td>2016-10-31</td>\n",
       "      <td>398031</td>\n",
       "      <td>No</td>\n",
       "      <td>Nashville</td>\n",
       "      <td>0.16</td>\n",
       "      <td>Urban Services District</td>\n",
       "      <td>27000.0</td>\n",
       "      <td>40200.0</td>\n",
       "      <td>67200.0</td>\n",
       "      <td>1933</td>\n",
       "      <td>4</td>\n",
       "      <td>1</td>\n",
       "      <td>0</td>\n",
       "    </tr>\n",
       "    <tr>\n",
       "      <th>...</th>\n",
       "      <td>...</td>\n",
       "      <td>...</td>\n",
       "      <td>...</td>\n",
       "      <td>...</td>\n",
       "      <td>...</td>\n",
       "      <td>...</td>\n",
       "      <td>...</td>\n",
       "      <td>...</td>\n",
       "      <td>...</td>\n",
       "      <td>...</td>\n",
       "      <td>...</td>\n",
       "      <td>...</td>\n",
       "      <td>...</td>\n",
       "      <td>...</td>\n",
       "      <td>...</td>\n",
       "      <td>...</td>\n",
       "    </tr>\n",
       "    <tr>\n",
       "      <th>23700</th>\n",
       "      <td>204</td>\n",
       "      <td>Residential</td>\n",
       "      <td>Brentwood</td>\n",
       "      <td>2013-01-02</td>\n",
       "      <td>1365000</td>\n",
       "      <td>No</td>\n",
       "      <td>Brentwood</td>\n",
       "      <td>1.99</td>\n",
       "      <td>General Services District</td>\n",
       "      <td>280800.0</td>\n",
       "      <td>1184700.0</td>\n",
       "      <td>1465500.0</td>\n",
       "      <td>2006</td>\n",
       "      <td>4</td>\n",
       "      <td>4</td>\n",
       "      <td>1</td>\n",
       "    </tr>\n",
       "    <tr>\n",
       "      <th>23701</th>\n",
       "      <td>298</td>\n",
       "      <td>Land</td>\n",
       "      <td>Nashville</td>\n",
       "      <td>2013-01-02</td>\n",
       "      <td>72500</td>\n",
       "      <td>No</td>\n",
       "      <td>Nashville</td>\n",
       "      <td>0.15</td>\n",
       "      <td>Urban Services District</td>\n",
       "      <td>60000.0</td>\n",
       "      <td>368200.0</td>\n",
       "      <td>459800.0</td>\n",
       "      <td>2013</td>\n",
       "      <td>5</td>\n",
       "      <td>3</td>\n",
       "      <td>1</td>\n",
       "    </tr>\n",
       "    <tr>\n",
       "      <th>23702</th>\n",
       "      <td>217</td>\n",
       "      <td>Residential</td>\n",
       "      <td>Nashville</td>\n",
       "      <td>2013-01-02</td>\n",
       "      <td>50000</td>\n",
       "      <td>No</td>\n",
       "      <td>Nashville</td>\n",
       "      <td>0.17</td>\n",
       "      <td>Urban Services District</td>\n",
       "      <td>45000.0</td>\n",
       "      <td>48200.0</td>\n",
       "      <td>93200.0</td>\n",
       "      <td>1918</td>\n",
       "      <td>3</td>\n",
       "      <td>1</td>\n",
       "      <td>0</td>\n",
       "    </tr>\n",
       "    <tr>\n",
       "      <th>23703</th>\n",
       "      <td>378</td>\n",
       "      <td>Residential</td>\n",
       "      <td>Nashville</td>\n",
       "      <td>2013-01-02</td>\n",
       "      <td>152000</td>\n",
       "      <td>No</td>\n",
       "      <td>Nashville</td>\n",
       "      <td>0.30</td>\n",
       "      <td>Urban Services District</td>\n",
       "      <td>22500.0</td>\n",
       "      <td>114700.0</td>\n",
       "      <td>139100.0</td>\n",
       "      <td>1974</td>\n",
       "      <td>4</td>\n",
       "      <td>3</td>\n",
       "      <td>0</td>\n",
       "    </tr>\n",
       "    <tr>\n",
       "      <th>23704</th>\n",
       "      <td>122</td>\n",
       "      <td>Residential</td>\n",
       "      <td>Nashville</td>\n",
       "      <td>2013-01-02</td>\n",
       "      <td>225000</td>\n",
       "      <td>No</td>\n",
       "      <td>Nashville</td>\n",
       "      <td>0.18</td>\n",
       "      <td>Urban Services District</td>\n",
       "      <td>140000.0</td>\n",
       "      <td>83400.0</td>\n",
       "      <td>245200.0</td>\n",
       "      <td>1940</td>\n",
       "      <td>2</td>\n",
       "      <td>1</td>\n",
       "      <td>0</td>\n",
       "    </tr>\n",
       "  </tbody>\n",
       "</table>\n",
       "<p>23705 rows × 16 columns</p>\n",
       "</div>"
      ],
      "text/plain": [
       "       UniqueID       LandUse PropertyAddress   SaleDate SalePrice  \\\n",
       "0          25542  Residential         Antioch 2019-12-13    118500   \n",
       "1          55343  Residential       Nashville 2016-10-31    205000   \n",
       "2          55740  Residential       Nashville 2016-10-31    412000   \n",
       "3          56328  Residential     Old Hickory 2016-10-31    465000   \n",
       "4          56231  Residential       Nashville 2016-10-31    398031   \n",
       "...          ...          ...             ...        ...       ...   \n",
       "23700        204  Residential       Brentwood 2013-01-02   1365000   \n",
       "23701        298         Land       Nashville 2013-01-02     72500   \n",
       "23702        217  Residential       Nashville 2013-01-02     50000   \n",
       "23703        378  Residential       Nashville 2013-01-02    152000   \n",
       "23704        122  Residential       Nashville 2013-01-02    225000   \n",
       "\n",
       "      SoldAsVacant  OwnerAddress  Acreage                TaxDistrict  \\\n",
       "0               No       Antioch     0.24    Urban Services District   \n",
       "1               No     Nashville     0.35    Urban Services District   \n",
       "2               No     Nashville     0.35    Urban Services District   \n",
       "3               No   Old Hickory     0.41  General Services District   \n",
       "4               No     Nashville     0.16    Urban Services District   \n",
       "...            ...           ...      ...                        ...   \n",
       "23700           No     Brentwood     1.99  General Services District   \n",
       "23701           No     Nashville     0.15    Urban Services District   \n",
       "23702           No     Nashville     0.17    Urban Services District   \n",
       "23703           No     Nashville     0.30    Urban Services District   \n",
       "23704           No     Nashville     0.18    Urban Services District   \n",
       "\n",
       "       LandValue  BuildingValue  TotalValue  YearBuilt  Bedrooms  FullBath  \\\n",
       "0        22000.0        67500.0     89500.0       1991         3         2   \n",
       "1        26000.0        85500.0    111500.0       1954         3         1   \n",
       "2       176000.0        99600.0    280100.0       1952         2         1   \n",
       "3        90000.0       308400.0    398400.0       2003         4         3   \n",
       "4        27000.0        40200.0     67200.0       1933         4         1   \n",
       "...          ...            ...         ...        ...       ...       ...   \n",
       "23700   280800.0      1184700.0   1465500.0       2006         4         4   \n",
       "23701    60000.0       368200.0    459800.0       2013         5         3   \n",
       "23702    45000.0        48200.0     93200.0       1918         3         1   \n",
       "23703    22500.0       114700.0    139100.0       1974         4         3   \n",
       "23704   140000.0        83400.0    245200.0       1940         2         1   \n",
       "\n",
       "       HalfBath  \n",
       "0             0  \n",
       "1             0  \n",
       "2             0  \n",
       "3             1  \n",
       "4             0  \n",
       "...         ...  \n",
       "23700         1  \n",
       "23701         1  \n",
       "23702         0  \n",
       "23703         0  \n",
       "23704         0  \n",
       "\n",
       "[23705 rows x 16 columns]"
      ]
     },
     "execution_count": 119,
     "metadata": {},
     "output_type": "execute_result"
    }
   ],
   "source": [
    "housing"
   ]
  },
  {
   "cell_type": "code",
   "execution_count": null,
   "id": "9365bba0",
   "metadata": {},
   "outputs": [],
   "source": []
  }
 ],
 "metadata": {
  "kernelspec": {
   "display_name": "Python 3 (ipykernel)",
   "language": "python",
   "name": "python3"
  },
  "language_info": {
   "codemirror_mode": {
    "name": "ipython",
    "version": 3
   },
   "file_extension": ".py",
   "mimetype": "text/x-python",
   "name": "python",
   "nbconvert_exporter": "python",
   "pygments_lexer": "ipython3",
   "version": "3.9.12"
  }
 },
 "nbformat": 4,
 "nbformat_minor": 5
}
